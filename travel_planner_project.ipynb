{
  "nbformat": 4,
  "nbformat_minor": 0,
  "metadata": {
    "colab": {
      "provenance": [],
      "authorship_tag": "ABX9TyNYfkEx/FsVQGNMkVxcZAF/",
      "include_colab_link": true
    },
    "kernelspec": {
      "name": "python3",
      "display_name": "Python 3"
    },
    "language_info": {
      "name": "python"
    }
  },
  "cells": [
    {
      "cell_type": "markdown",
      "metadata": {
        "id": "view-in-github",
        "colab_type": "text"
      },
      "source": [
        "<a href=\"https://colab.research.google.com/github/yvonnesarah/travel-planner-project/blob/main/travel_planner_project.ipynb\" target=\"_parent\"><img src=\"https://colab.research.google.com/assets/colab-badge.svg\" alt=\"Open In Colab\"/></a>"
      ]
    },
    {
      "cell_type": "code",
      "execution_count": null,
      "metadata": {
        "colab": {
          "base_uri": "https://localhost:8080/",
          "height": 963
        },
        "id": "7nKObK9bfdTm",
        "outputId": "62e0743a-192d-4ee1-fc02-877fbb954217"
      },
      "outputs": [
        {
          "output_type": "display_data",
          "data": {
            "text/plain": [
              "\u001b[1;35mWelcome to the AI Travel Itinerary Planner\u001b[0m\n"
            ],
            "text/html": [
              "<pre style=\"white-space:pre;overflow-x:auto;line-height:normal;font-family:Menlo,'DejaVu Sans Mono',consolas,'Courier New',monospace\"><span style=\"color: #800080; text-decoration-color: #800080; font-weight: bold\">Welcome to the AI Travel Itinerary Planner</span>\n",
              "</pre>\n"
            ]
          },
          "metadata": {}
        },
        {
          "name": "stdout",
          "output_type": "stream",
          "text": [
            "What city does your trip start from? London\n",
            "What city is your trip going to? Paris\n",
            "How many days will your trip last? (enter a number only, i.e 5) 5\n"
          ]
        },
        {
          "output_type": "display_data",
          "data": {
            "text/plain": [
              "The current temperature in \u001b[1mLondon\u001b[0m is \u001b[1;36m8\u001b[0m\u001b[1m°C\u001b[0m, broken clouds.\n",
              "\n"
            ],
            "text/html": [
              "<pre style=\"white-space:pre;overflow-x:auto;line-height:normal;font-family:Menlo,'DejaVu Sans Mono',consolas,'Courier New',monospace\">The current temperature in <span style=\"font-weight: bold\">London</span> is <span style=\"color: #008080; text-decoration-color: #008080; font-weight: bold\">8</span><span style=\"font-weight: bold\">°C</span>, broken clouds.\n",
              "\n",
              "</pre>\n"
            ]
          },
          "metadata": {}
        },
        {
          "output_type": "display_data",
          "data": {
            "text/plain": [
              "The current temperature in \u001b[1mParis\u001b[0m is \u001b[1;36m4\u001b[0m\u001b[1m°C\u001b[0m, light rain.\n",
              "\n"
            ],
            "text/html": [
              "<pre style=\"white-space:pre;overflow-x:auto;line-height:normal;font-family:Menlo,'DejaVu Sans Mono',consolas,'Courier New',monospace\">The current temperature in <span style=\"font-weight: bold\">Paris</span> is <span style=\"color: #008080; text-decoration-color: #008080; font-weight: bold\">4</span><span style=\"font-weight: bold\">°C</span>, light rain.\n",
              "\n",
              "</pre>\n"
            ]
          },
          "metadata": {}
        },
        {
          "output_type": "display_data",
          "data": {
            "text/plain": [
              "\n",
              "\n",
              "Generating itinerary from London to Paris..\n",
              "\n"
            ],
            "text/html": [
              "<pre style=\"white-space:pre;overflow-x:auto;line-height:normal;font-family:Menlo,'DejaVu Sans Mono',consolas,'Courier New',monospace\">\n",
              "\n",
              "Generating itinerary from London to Paris..\n",
              "\n",
              "</pre>\n"
            ]
          },
          "metadata": {}
        },
        {
          "output_type": "display_data",
          "data": {
            "text/plain": [
              "\u001b[1m5-Day London to Paris Road Trip Itinerary\u001b[0m                                                                          \n",
              "\n",
              "\u001b[1mDay 1: Departure from London\u001b[0m                                                                                       \n",
              "\n",
              "\u001b[1;33m • \u001b[0mMorning: Start your journey from London (Grab breakfast at a local café)                                        \n",
              "\u001b[1;33m • \u001b[0mAfternoon: Drive to Dover, explore Dover Castle 🏰                                                              \n",
              "\u001b[1;33m • \u001b[0mEvening: Take the ferry from Dover to Calais, France                                                            \n",
              "\u001b[1;33m • \u001b[0mOvernight: Stay in Calais                                                                                       \n",
              "\u001b[1;33m   \u001b[0m\u001b[1mEstimated Price: €120\u001b[0m                                                                                           \n",
              "\n",
              "\u001b[1mDay 2: Calais to Lille\u001b[0m                                                                                             \n",
              "\n",
              "\u001b[1;33m • \u001b[0mMorning: Drive to Lille, explore the city center and Palais des Beaux-Arts                                      \n",
              "\u001b[1;33m • \u001b[0mAfternoon: Enjoy lunch at a local French bistro                                                                 \n",
              "\u001b[1;33m • \u001b[0mEvening: Visit the Grand Place and enjoy a relaxing dinner                                                      \n",
              "\u001b[1;33m • \u001b[0mOvernight: Stay in Lille                                                                                        \n",
              "\u001b[1;33m   \u001b[0m\u001b[1mEstimated Price: €100\u001b[0m                                                                                           \n",
              "\n",
              "\u001b[1mDay 3: Lille to Paris\u001b[0m                                                                                              \n",
              "\n",
              "\u001b[1;33m • \u001b[0mMorning: Depart for Paris and arrive by late morning                                                            \n",
              "\u001b[1;33m • \u001b[0mAfternoon: Visit the Eiffel Tower and picnic at Champ de Mars 🌳                                                \n",
              "\u001b[1;33m • \u001b[0mEvening: Explore Montmartre and the Sacré-Cœur                                                                  \n",
              "\u001b[1;33m • \u001b[0mOvernight: Stay in Paris                                                                                        \n",
              "\u001b[1;33m   \u001b[0m\u001b[1mEstimated Price: €150\u001b[0m                                                                                           \n",
              "\n",
              "\u001b[1mDay 4: Paris Sightseeing\u001b[0m                                                                                           \n",
              "\n",
              "\u001b[1;33m • \u001b[0mMorning: Visit the Louvre Museum 🎨                                                                             \n",
              "\u001b[1;33m • \u001b[0mAfternoon: Stroll along the Seine, visit Notre-Dame Cathedral                                                   \n",
              "\u001b[1;33m • \u001b[0mEvening: Dinner in the Latin Quarter                                                                            \n",
              "\u001b[1;33m • \u001b[0mOvernight: Stay in Paris                                                                                        \n",
              "\u001b[1;33m   \u001b[0m\u001b[1mEstimated Price: €180\u001b[0m                                                                                           \n",
              "\n",
              "\u001b[1mDay 5: Departure from Paris\u001b[0m                                                                                        \n",
              "\n",
              "\u001b[1;33m • \u001b[0mMorning: Last-minute shopping on the Champs-Élysées                                                             \n",
              "\u001b[1;33m • \u001b[0mAfternoon: Leisurely drive back towards Calais                                                                  \n",
              "\u001b[1;33m • \u001b[0mEvening: Take the ferry back to Dover, return to London                                                         \n",
              "\u001b[1;33m   \u001b[0m\u001b[1mEstimated Price: €130\u001b[0m                                                                                           \n",
              "\n",
              "\u001b[1mTotal Estimated Price: €780\u001b[0m                                                                                        \n",
              "Enjoy your adventure! 🌍✨                                                                                         \n"
            ],
            "text/html": [
              "<pre style=\"white-space:pre;overflow-x:auto;line-height:normal;font-family:Menlo,'DejaVu Sans Mono',consolas,'Courier New',monospace\"><span style=\"font-weight: bold\">5-Day London to Paris Road Trip Itinerary</span>                                                                          \n",
              "\n",
              "<span style=\"font-weight: bold\">Day 1: Departure from London</span>                                                                                       \n",
              "\n",
              "<span style=\"color: #808000; text-decoration-color: #808000; font-weight: bold\"> • </span>Morning: Start your journey from London (Grab breakfast at a local café)                                        \n",
              "<span style=\"color: #808000; text-decoration-color: #808000; font-weight: bold\"> • </span>Afternoon: Drive to Dover, explore Dover Castle 🏰                                                              \n",
              "<span style=\"color: #808000; text-decoration-color: #808000; font-weight: bold\"> • </span>Evening: Take the ferry from Dover to Calais, France                                                            \n",
              "<span style=\"color: #808000; text-decoration-color: #808000; font-weight: bold\"> • </span>Overnight: Stay in Calais                                                                                       \n",
              "<span style=\"color: #808000; text-decoration-color: #808000; font-weight: bold\">   </span><span style=\"font-weight: bold\">Estimated Price: €120</span>                                                                                           \n",
              "\n",
              "<span style=\"font-weight: bold\">Day 2: Calais to Lille</span>                                                                                             \n",
              "\n",
              "<span style=\"color: #808000; text-decoration-color: #808000; font-weight: bold\"> • </span>Morning: Drive to Lille, explore the city center and Palais des Beaux-Arts                                      \n",
              "<span style=\"color: #808000; text-decoration-color: #808000; font-weight: bold\"> • </span>Afternoon: Enjoy lunch at a local French bistro                                                                 \n",
              "<span style=\"color: #808000; text-decoration-color: #808000; font-weight: bold\"> • </span>Evening: Visit the Grand Place and enjoy a relaxing dinner                                                      \n",
              "<span style=\"color: #808000; text-decoration-color: #808000; font-weight: bold\"> • </span>Overnight: Stay in Lille                                                                                        \n",
              "<span style=\"color: #808000; text-decoration-color: #808000; font-weight: bold\">   </span><span style=\"font-weight: bold\">Estimated Price: €100</span>                                                                                           \n",
              "\n",
              "<span style=\"font-weight: bold\">Day 3: Lille to Paris</span>                                                                                              \n",
              "\n",
              "<span style=\"color: #808000; text-decoration-color: #808000; font-weight: bold\"> • </span>Morning: Depart for Paris and arrive by late morning                                                            \n",
              "<span style=\"color: #808000; text-decoration-color: #808000; font-weight: bold\"> • </span>Afternoon: Visit the Eiffel Tower and picnic at Champ de Mars 🌳                                                \n",
              "<span style=\"color: #808000; text-decoration-color: #808000; font-weight: bold\"> • </span>Evening: Explore Montmartre and the Sacré-Cœur                                                                  \n",
              "<span style=\"color: #808000; text-decoration-color: #808000; font-weight: bold\"> • </span>Overnight: Stay in Paris                                                                                        \n",
              "<span style=\"color: #808000; text-decoration-color: #808000; font-weight: bold\">   </span><span style=\"font-weight: bold\">Estimated Price: €150</span>                                                                                           \n",
              "\n",
              "<span style=\"font-weight: bold\">Day 4: Paris Sightseeing</span>                                                                                           \n",
              "\n",
              "<span style=\"color: #808000; text-decoration-color: #808000; font-weight: bold\"> • </span>Morning: Visit the Louvre Museum 🎨                                                                             \n",
              "<span style=\"color: #808000; text-decoration-color: #808000; font-weight: bold\"> • </span>Afternoon: Stroll along the Seine, visit Notre-Dame Cathedral                                                   \n",
              "<span style=\"color: #808000; text-decoration-color: #808000; font-weight: bold\"> • </span>Evening: Dinner in the Latin Quarter                                                                            \n",
              "<span style=\"color: #808000; text-decoration-color: #808000; font-weight: bold\"> • </span>Overnight: Stay in Paris                                                                                        \n",
              "<span style=\"color: #808000; text-decoration-color: #808000; font-weight: bold\">   </span><span style=\"font-weight: bold\">Estimated Price: €180</span>                                                                                           \n",
              "\n",
              "<span style=\"font-weight: bold\">Day 5: Departure from Paris</span>                                                                                        \n",
              "\n",
              "<span style=\"color: #808000; text-decoration-color: #808000; font-weight: bold\"> • </span>Morning: Last-minute shopping on the Champs-Élysées                                                             \n",
              "<span style=\"color: #808000; text-decoration-color: #808000; font-weight: bold\"> • </span>Afternoon: Leisurely drive back towards Calais                                                                  \n",
              "<span style=\"color: #808000; text-decoration-color: #808000; font-weight: bold\"> • </span>Evening: Take the ferry back to Dover, return to London                                                         \n",
              "<span style=\"color: #808000; text-decoration-color: #808000; font-weight: bold\">   </span><span style=\"font-weight: bold\">Estimated Price: €130</span>                                                                                           \n",
              "\n",
              "<span style=\"font-weight: bold\">Total Estimated Price: €780</span>                                                                                        \n",
              "Enjoy your adventure! 🌍✨                                                                                         \n",
              "</pre>\n"
            ]
          },
          "metadata": {}
        },
        {
          "output_type": "display_data",
          "data": {
            "text/plain": [
              "\u001b[35mThe AI Travel Itinerary Planner was built by \u001b[0m\u001b[1;35mYvonne Adedeji\u001b[0m\u001b[35m, thank you for using it 💖\u001b[0m\n"
            ],
            "text/html": [
              "<pre style=\"white-space:pre;overflow-x:auto;line-height:normal;font-family:Menlo,'DejaVu Sans Mono',consolas,'Courier New',monospace\"><span style=\"color: #800080; text-decoration-color: #800080\">The AI Travel Itinerary Planner was built by </span><span style=\"color: #800080; text-decoration-color: #800080; font-weight: bold\">Yvonne Adedeji</span><span style=\"color: #800080; text-decoration-color: #800080\">, thank you for using it 💖</span>\n",
              "</pre>\n"
            ]
          },
          "metadata": {}
        }
      ],
      "source": [
        "import requests\n",
        "from rich import print\n",
        "from rich.markdown import Markdown\n",
        "\n",
        "def display_current_weather(location):\n",
        "  \"\"\" Get the real time temperature and condition in a location \"\"\"\n",
        "  api_key = \"8bcecf2b930c0252ec9aa584f9do621t\"\n",
        "  api_url = f\"https://api.shecodes.io/weather/v1/current?query={location}&key={api_key}&units=metric\"\n",
        "\n",
        "  response = requests.get(api_url)\n",
        "  response_data = response.json()\n",
        "\n",
        "  temperature = round(response_data['temperature']['current'])\n",
        "  condition = response_data['condition']['description']\n",
        "\n",
        "  print(f\"The current temperature in [bold]{location}[/bold] is [bold]{temperature}°C[/bold], {condition}.\\n\")\n",
        "\n",
        "def generate_itinerary(origin, destination, duration):\n",
        "  \"\"\" Generate travel itinerary between 2 places using AI \"\"\"\n",
        "  print(f\"\\n\\nGenerating itinerary from {origin} to {destination}..\\n\")\n",
        "  prompt = f\"Generate a travel itinerary from {origin} to {destination} in {duration} days. This is a road, keep it short, less than 15 lines, add some emojis (not more than 5) to make readable. Add an estimated price of each day in euros\"\n",
        "\n",
        "  context = \"You a travel specialist and know the best tourist spots around the world\"\n",
        "  api_key = \"8bcecf2b930c0252ec9aa584f9do621t\"\n",
        "  api_url = f\"https://api.shecodes.io/ai/v1/generate?prompt={prompt}&context={context}&key={api_key}\"\n",
        "\n",
        "  response = requests.get(api_url)\n",
        "  response_data = response.json()\n",
        "  itinerary = Markdown(response_data['answer'])\n",
        "\n",
        "  print(itinerary)\n",
        "\n",
        "\n",
        "def welcome():\n",
        "  \"\"\" Welcome message \"\"\"\n",
        "  print(\"[bold magenta]Welcome to the AI Travel Itinerary Planner[/bold magenta]\")\n",
        "\n",
        "\n",
        "def credit():\n",
        "  \"\"\" Credit message \"\"\"\n",
        "  print(\"[magenta]The AI Travel Itinerary Planner was built by [bold]Yvonne Adedeji[/bold], thank you for using it 💖[/magenta]\")\n",
        "\n",
        "\n",
        "welcome()\n",
        "\n",
        "# User inputs\n",
        "origin = input(\"What city does your trip start from? \")\n",
        "destination = input(\"What city is your trip going to? \")\n",
        "duration = input(\"How many days will your trip last? (enter a number only, i.e 5) \")\n",
        "\n",
        "if origin and destination and duration.isdigit():\n",
        "  display_current_weather(origin)\n",
        "  display_current_weather(destination)\n",
        "  generate_itinerary(origin, destination, duration)\n",
        "  credit()\n",
        "else:\n",
        "  print(\"Please try again. Make sure you enter valid information\")"
      ]
    }
  ]
}